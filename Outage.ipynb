{
 "cells": [
  {
   "cell_type": "markdown",
   "id": "607663b7",
   "metadata": {},
   "source": [
    "# .gov.ua Website Outage\n",
    "\n",
    "This notebook analyzes data collected by the `monitor.py` program that checks to see what .gov.ua websites (obtained from Wikidata) can be connected to."
   ]
  },
  {
   "cell_type": "code",
   "execution_count": null,
   "id": "2dae5ec4-972b-4f77-9a77-7df43e1935e5",
   "metadata": {},
   "outputs": [],
   "source": [
    "! pip install pandas plotly ipyleaflet python-geoip-geolite2 python-geoip-python3"
   ]
  },
  {
   "cell_type": "code",
   "execution_count": 1,
   "id": "04b8b7e3",
   "metadata": {},
   "outputs": [
    {
     "data": {
      "text/html": [
       "<div>\n",
       "<style scoped>\n",
       "    .dataframe tbody tr th:only-of-type {\n",
       "        vertical-align: middle;\n",
       "    }\n",
       "\n",
       "    .dataframe tbody tr th {\n",
       "        vertical-align: top;\n",
       "    }\n",
       "\n",
       "    .dataframe thead th {\n",
       "        text-align: right;\n",
       "    }\n",
       "</style>\n",
       "<table border=\"1\" class=\"dataframe\">\n",
       "  <thead>\n",
       "    <tr style=\"text-align: right;\">\n",
       "      <th></th>\n",
       "      <th>run</th>\n",
       "      <th>time</th>\n",
       "      <th>url</th>\n",
       "      <th>error</th>\n",
       "    </tr>\n",
       "  </thead>\n",
       "  <tbody>\n",
       "    <tr>\n",
       "      <th>0</th>\n",
       "      <td>2022-02-26 15:21:11.457890</td>\n",
       "      <td>2022-02-26 15:21:19.130888</td>\n",
       "      <td>http://zborivrayrada.gov.ua</td>\n",
       "      <td>HTTPConnectionPool(host='zborivrayrada.gov.ua'...</td>\n",
       "    </tr>\n",
       "    <tr>\n",
       "      <th>1</th>\n",
       "      <td>2022-02-26 15:21:11.457890</td>\n",
       "      <td>2022-02-26 15:21:53.422481</td>\n",
       "      <td>http://www.adm-pl.gov.ua</td>\n",
       "      <td>HTTPConnectionPool(host='www.adm-pl.gov.ua', p...</td>\n",
       "    </tr>\n",
       "    <tr>\n",
       "      <th>2</th>\n",
       "      <td>2022-02-26 15:21:11.457890</td>\n",
       "      <td>2022-02-26 15:21:55.066555</td>\n",
       "      <td>http://pogrda.gov.ua</td>\n",
       "      <td>HTTPConnectionPool(host='pogrda.gov.ua', port=...</td>\n",
       "    </tr>\n",
       "    <tr>\n",
       "      <th>3</th>\n",
       "      <td>2022-02-26 15:21:11.457890</td>\n",
       "      <td>2022-02-26 15:21:42.104289</td>\n",
       "      <td>http://www.oda.te.gov.ua</td>\n",
       "      <td>HTTPSConnectionPool(host='oda.te.gov.ua', port...</td>\n",
       "    </tr>\n",
       "    <tr>\n",
       "      <th>4</th>\n",
       "      <td>2022-02-26 15:21:11.457890</td>\n",
       "      <td>2022-02-26 15:21:45.803619</td>\n",
       "      <td>http://www.vberez.gov.ua</td>\n",
       "      <td>HTTPConnectionPool(host='www.vberez.gov.ua', p...</td>\n",
       "    </tr>\n",
       "    <tr>\n",
       "      <th>...</th>\n",
       "      <td>...</td>\n",
       "      <td>...</td>\n",
       "      <td>...</td>\n",
       "      <td>...</td>\n",
       "    </tr>\n",
       "    <tr>\n",
       "      <th>355651</th>\n",
       "      <td>2022-03-12 11:47:24.832034</td>\n",
       "      <td>2022-03-12 11:55:50.505424</td>\n",
       "      <td>http://www.vinrada.gov.ua</td>\n",
       "      <td>HTTPConnectionPool(host='www.vinrada.gov.ua', ...</td>\n",
       "    </tr>\n",
       "    <tr>\n",
       "      <th>355652</th>\n",
       "      <td>2022-03-12 11:47:24.832034</td>\n",
       "      <td>2022-03-12 11:54:16.047733</td>\n",
       "      <td>http://www.volynrada.gov.ua</td>\n",
       "      <td>HTTPConnectionPool(host='www.volynrada.gov.ua'...</td>\n",
       "    </tr>\n",
       "    <tr>\n",
       "      <th>355653</th>\n",
       "      <td>2022-03-12 11:47:24.832034</td>\n",
       "      <td>2022-03-12 11:54:48.945356</td>\n",
       "      <td>http://www.vru.gov.ua</td>\n",
       "      <td>HTTPConnectionPool(host='www.vru.gov.ua', port...</td>\n",
       "    </tr>\n",
       "    <tr>\n",
       "      <th>355654</th>\n",
       "      <td>2022-03-12 11:47:24.832034</td>\n",
       "      <td>2022-03-12 11:54:51.365681</td>\n",
       "      <td>http://www.yalta-gs.gov.ua</td>\n",
       "      <td>HTTPConnectionPool(host='www.yalta-gs.gov.ua',...</td>\n",
       "    </tr>\n",
       "    <tr>\n",
       "      <th>355655</th>\n",
       "      <td>2022-03-12 11:47:24.832034</td>\n",
       "      <td>2022-03-12 11:54:16.918911</td>\n",
       "      <td>http://www.yuryev-rn.dp.gov.ua</td>\n",
       "      <td>HTTPConnectionPool(host='www.yuryev-rn.dp.gov....</td>\n",
       "    </tr>\n",
       "  </tbody>\n",
       "</table>\n",
       "<p>355656 rows × 4 columns</p>\n",
       "</div>"
      ],
      "text/plain": [
       "                              run                       time  \\\n",
       "0      2022-02-26 15:21:11.457890 2022-02-26 15:21:19.130888   \n",
       "1      2022-02-26 15:21:11.457890 2022-02-26 15:21:53.422481   \n",
       "2      2022-02-26 15:21:11.457890 2022-02-26 15:21:55.066555   \n",
       "3      2022-02-26 15:21:11.457890 2022-02-26 15:21:42.104289   \n",
       "4      2022-02-26 15:21:11.457890 2022-02-26 15:21:45.803619   \n",
       "...                           ...                        ...   \n",
       "355651 2022-03-12 11:47:24.832034 2022-03-12 11:55:50.505424   \n",
       "355652 2022-03-12 11:47:24.832034 2022-03-12 11:54:16.047733   \n",
       "355653 2022-03-12 11:47:24.832034 2022-03-12 11:54:48.945356   \n",
       "355654 2022-03-12 11:47:24.832034 2022-03-12 11:54:51.365681   \n",
       "355655 2022-03-12 11:47:24.832034 2022-03-12 11:54:16.918911   \n",
       "\n",
       "                                   url  \\\n",
       "0          http://zborivrayrada.gov.ua   \n",
       "1             http://www.adm-pl.gov.ua   \n",
       "2                 http://pogrda.gov.ua   \n",
       "3             http://www.oda.te.gov.ua   \n",
       "4             http://www.vberez.gov.ua   \n",
       "...                                ...   \n",
       "355651       http://www.vinrada.gov.ua   \n",
       "355652     http://www.volynrada.gov.ua   \n",
       "355653           http://www.vru.gov.ua   \n",
       "355654      http://www.yalta-gs.gov.ua   \n",
       "355655  http://www.yuryev-rn.dp.gov.ua   \n",
       "\n",
       "                                                    error  \n",
       "0       HTTPConnectionPool(host='zborivrayrada.gov.ua'...  \n",
       "1       HTTPConnectionPool(host='www.adm-pl.gov.ua', p...  \n",
       "2       HTTPConnectionPool(host='pogrda.gov.ua', port=...  \n",
       "3       HTTPSConnectionPool(host='oda.te.gov.ua', port...  \n",
       "4       HTTPConnectionPool(host='www.vberez.gov.ua', p...  \n",
       "...                                                   ...  \n",
       "355651  HTTPConnectionPool(host='www.vinrada.gov.ua', ...  \n",
       "355652  HTTPConnectionPool(host='www.volynrada.gov.ua'...  \n",
       "355653  HTTPConnectionPool(host='www.vru.gov.ua', port...  \n",
       "355654  HTTPConnectionPool(host='www.yalta-gs.gov.ua',...  \n",
       "355655  HTTPConnectionPool(host='www.yuryev-rn.dp.gov....  \n",
       "\n",
       "[355656 rows x 4 columns]"
      ]
     },
     "execution_count": 1,
     "metadata": {},
     "output_type": "execute_result"
    }
   ],
   "source": [
    "import pandas\n",
    "\n",
    "df = pandas.read_csv('https://raw.githubusercontent.com/edsu/gov-ua/main/data.csv.gz', parse_dates=['run', 'time'])\n",
    "df"
   ]
  },
  {
   "cell_type": "code",
   "execution_count": null,
   "id": "7bbe689f",
   "metadata": {},
   "outputs": [],
   "source": [
    "counts = df.groupby('run').count()\n",
    "counts"
   ]
  },
  {
   "cell_type": "code",
   "execution_count": null,
   "id": "fba7e9b3",
   "metadata": {},
   "outputs": [],
   "source": [
    "from plotly import express as xp\n",
    "\n",
    "xp.line(\n",
    "    df, \n",
    "    x=counts.index,\n",
    "    y=counts.error,\n",
    "    labels={'x': 'Time (30 minute intervals)', 'y': 'Sites unreachable'},\n",
    "    title='Ukrainian Government Websites Down (.gov.ua)'\n",
    ")"
   ]
  },
  {
   "cell_type": "markdown",
   "id": "76fc4b03",
   "metadata": {},
   "source": [
    "While there have been blips here and there it looks like a sustained outage began on March 3 at 15:17. Can we zoom in to see which websites these are? We can get the observations the hour before and after and see what hostnames differ."
   ]
  },
  {
   "cell_type": "code",
   "execution_count": null,
   "id": "3a17baf5",
   "metadata": {},
   "outputs": [],
   "source": [
    "from datetime import datetime, timezone\n",
    "\n",
    "after = df[df['run'] >= datetime(2022, 3, 3, 15, 17, 0)]\n",
    "just_before = df[(df['run'] >= datetime(2022, 3, 3, 13, 17, 0)) & (df['run'] < datetime(2022, 3, 3, 15, 17, 0))]"
   ]
  },
  {
   "cell_type": "markdown",
   "id": "dcbfc0c4",
   "metadata": {},
   "source": [
    "We can gt the website URLs for each period:"
   ]
  },
  {
   "cell_type": "code",
   "execution_count": null,
   "id": "7db6c018",
   "metadata": {},
   "outputs": [],
   "source": [
    "urls_before = just_before['url'].unique()\n",
    "urls_after = after['url'].unique()"
   ]
  },
  {
   "cell_type": "markdown",
   "id": "c1bc8d77",
   "metadata": {},
   "source": [
    "Now we can see which website URLs weren't down before, but were after with a bit of set logic."
   ]
  },
  {
   "cell_type": "code",
   "execution_count": null,
   "id": "8fc7b7df",
   "metadata": {},
   "outputs": [],
   "source": [
    "urls_down = set(urls_after) - set(urls_before)\n",
    "urls_down"
   ]
  },
  {
   "cell_type": "code",
   "execution_count": null,
   "id": "acf254ea",
   "metadata": {},
   "outputs": [],
   "source": [
    "len(urls_down)"
   ]
  },
  {
   "cell_type": "markdown",
   "id": "ed0a3af6",
   "metadata": {},
   "source": [
    "Scanning the list makes it clear that a large number of these are host names invoving of `gromada.gov.ua`. Gromada in Ukrainian translates to Community in English. Here is one example from the Wayback Machine:\n",
    "\n",
    "https://web.archive.org/web/20220228201105/https://ezupilska-gromada.gov.ua/\n",
    "\n",
    "We can see if it's possible to get a sense of where these hostnames are hosted. First we need an IP address for the host:"
   ]
  },
  {
   "cell_type": "code",
   "execution_count": null,
   "id": "5dca5c04",
   "metadata": {},
   "outputs": [],
   "source": [
    "from socket import gethostbyname\n",
    "\n",
    "gethostbyname('ezupilska-gromada.gov.ua')"
   ]
  },
  {
   "cell_type": "markdown",
   "id": "37896067",
   "metadata": {},
   "source": [
    "And then we need to see if we can find geo information fot that IP:"
   ]
  },
  {
   "cell_type": "code",
   "execution_count": null,
   "id": "5cebb3b6",
   "metadata": {},
   "outputs": [],
   "source": [
    "from geoip import geolite2\n",
    "\n",
    "geolite2.lookup('195.248.234.252')"
   ]
  },
  {
   "cell_type": "markdown",
   "id": "7db19a53",
   "metadata": {},
   "source": [
    "Lets write a function and apply it to our dataset."
   ]
  },
  {
   "cell_type": "code",
   "execution_count": null,
   "id": "c1dd1197",
   "metadata": {},
   "outputs": [],
   "source": [
    "from urllib.parse import urlparse \n",
    "\n",
    "def geo(url):\n",
    "    uri = urlparse(url)\n",
    "    try:\n",
    "        hostname = uri.netloc\n",
    "        ip = gethostbyname(hostname)\n",
    "        loc = geolite2.lookup(ip)\n",
    "        return loc.location\n",
    "    except Exception as e:\n",
    "        print(f\"Failed to lookup {url}: {e}\")\n",
    "        return None\n",
    "\n",
    "geo('https://ezupilska-gromada.gov.ua/')"
   ]
  },
  {
   "cell_type": "code",
   "execution_count": null,
   "id": "6e395755",
   "metadata": {},
   "outputs": [],
   "source": [
    "df2 = pandas.DataFrame({\"url\": list(urls_down)})\n",
    "df2"
   ]
  },
  {
   "cell_type": "code",
   "execution_count": null,
   "id": "9f1ee075",
   "metadata": {},
   "outputs": [],
   "source": [
    "df2['geo'] = df2.url.map(geo)\n",
    "df2"
   ]
  },
  {
   "cell_type": "markdown",
   "id": "639c9843",
   "metadata": {},
   "source": [
    "Unpack the lat/lon into separate columns:"
   ]
  },
  {
   "cell_type": "code",
   "execution_count": null,
   "id": "ee264302",
   "metadata": {},
   "outputs": [],
   "source": [
    "df3 = df2[df2['geo'].notna()].copy()\n",
    "\n",
    "df3['lat'] = df3['geo'].map(lambda a: a[0])\n",
    "df3['lon'] = df3['geo'].map(lambda a: a[1])\n",
    "df3 = df3.drop(columns=['geo'])\n",
    "df3"
   ]
  },
  {
   "cell_type": "markdown",
   "id": "cd13d4ef",
   "metadata": {},
   "source": [
    "Save it so we don't need to recalculate:"
   ]
  },
  {
   "cell_type": "code",
   "execution_count": null,
   "id": "727ba9ca",
   "metadata": {},
   "outputs": [],
   "source": [
    "df3.to_csv('notebook.csv', index=False)"
   ]
  },
  {
   "cell_type": "code",
   "execution_count": null,
   "id": "486df8bc",
   "metadata": {},
   "outputs": [],
   "source": [
    "df3 = pandas.read_csv('notebook.csv')\n",
    "\n",
    "from ipywidgets import Layout\n",
    "from ipyleaflet import Map, Marker, MarkerCluster, basemaps\n",
    "\n",
    "center = (50.44676, 30.51313)\n",
    "\n",
    "m = Map(center=center, zoom=4, basemap=basemaps.CartoDB.Positron, layout=Layout(height='800px'))\n",
    "\n",
    "\n",
    "marker = Marker(location=center, draggable=False, title=\"Kyivt\")\n",
    "m.add_layer(marker);\n",
    "\n",
    "markers = []\n",
    "for i, row in df3.iterrows():\n",
    "    markers.append(Marker(location=(row['lat'], row['lon']), draggable=False, title=row['url']))\n",
    "\n",
    "marker_cluster = MarkerCluster(markers=markers)\n",
    "m.add_layer(marker_cluster)\n",
    "    \n",
    "m"
   ]
  },
  {
   "cell_type": "code",
   "execution_count": null,
   "id": "94447976",
   "metadata": {},
   "outputs": [],
   "source": [
    "m.save('outage-map.html', title='Website Outage 2020-03-03')"
   ]
  },
  {
   "cell_type": "markdown",
   "id": "abb291f4-004d-4fcc-91e3-2fccbcc589d2",
   "metadata": {},
   "source": [
    "## All the Websites\n",
    "\n",
    "It could be useful to get IP addresses and geo-location for the entire dataset, even though this could change in time. To do this we need to pull apart the geo function:"
   ]
  },
  {
   "cell_type": "code",
   "execution_count": null,
   "id": "13bdad71-e3ee-469a-bcd5-64386baa2801",
   "metadata": {},
   "outputs": [],
   "source": [
    "from urllib.parse import urlparse \n",
    "\n",
    "def ip(url):\n",
    "    uri = urlparse(url)\n",
    "    try:\n",
    "        hostname = uri.netloc\n",
    "        ip = gethostbyname(hostname)\n",
    "        print(f'{hostname} -> {ip}')\n",
    "        return ip\n",
    "    except Exception as e:\n",
    "        print(f\"Failed to lookup {url}: {e}\")\n",
    "        return None\n",
    "\n",
    "ip('https://ezupilska-gromada.gov.ua/')"
   ]
  },
  {
   "cell_type": "code",
   "execution_count": null,
   "id": "79971159-d6be-4347-a5c2-235867674e8d",
   "metadata": {},
   "outputs": [],
   "source": [
    "websites = pandas.DataFrame({\"homepage\": df['url'].unique()})\n",
    "websites = websites.sort_values('homepage')\n",
    "websites"
   ]
  },
  {
   "cell_type": "code",
   "execution_count": null,
   "id": "f49e9b20-5a8d-4e07-a9a8-4553a60c67fb",
   "metadata": {},
   "outputs": [],
   "source": [
    "websites['ip'] = websites['homepage'].map(ip)\n",
    "websites"
   ]
  },
  {
   "cell_type": "code",
   "execution_count": null,
   "id": "b04b0aae-7d3d-4a50-b4c9-f4df6f8d350b",
   "metadata": {},
   "outputs": [],
   "source": [
    "def location(ip):\n",
    "    try:\n",
    "        loc = geolite2.lookup(ip)\n",
    "        if loc:\n",
    "            print(f'{ip} -> {loc.location}')\n",
    "            return loc.location\n",
    "        else:\n",
    "            print(f'{ip} no location')\n",
    "    except Exception as e:\n",
    "        print(e)\n",
    "    return None\n",
    "\n",
    "location('77.87.197.41')"
   ]
  },
  {
   "cell_type": "code",
   "execution_count": null,
   "id": "63295ddc-fb68-4321-8af3-18fdee66129d",
   "metadata": {},
   "outputs": [],
   "source": [
    "websites['location'] = websites['ip'].map(location)"
   ]
  },
  {
   "cell_type": "code",
   "execution_count": null,
   "id": "a990283a-5170-4408-bc14-2de209233629",
   "metadata": {},
   "outputs": [],
   "source": [
    "websites['lat'] = websites['location'].map(lambda a: a[0] if a else None)\n",
    "websites['lon'] = websites['location'].map(lambda a: a[1] if a else None)\n",
    "websites = websites.drop(columns=['location'])\n",
    "websites"
   ]
  },
  {
   "cell_type": "code",
   "execution_count": null,
   "id": "a6e8f7ad-5ee7-4f96-8f80-4cb7df17cb3f",
   "metadata": {},
   "outputs": [],
   "source": [
    "websites.to_csv('websites.csv', index=False)"
   ]
  },
  {
   "cell_type": "markdown",
   "id": "1cce06ef-92c1-4bd0-ad17-2b3d871f9ccc",
   "metadata": {},
   "source": [
    "## .gov.ua map\n",
    "\n",
    "We can put all the known website locations on a map."
   ]
  },
  {
   "cell_type": "code",
   "execution_count": 2,
   "id": "65cb1a5f-f90e-432a-a3bc-98e1659d124d",
   "metadata": {},
   "outputs": [
    {
     "data": {
      "text/html": [
       "<div>\n",
       "<style scoped>\n",
       "    .dataframe tbody tr th:only-of-type {\n",
       "        vertical-align: middle;\n",
       "    }\n",
       "\n",
       "    .dataframe tbody tr th {\n",
       "        vertical-align: top;\n",
       "    }\n",
       "\n",
       "    .dataframe thead th {\n",
       "        text-align: right;\n",
       "    }\n",
       "</style>\n",
       "<table border=\"1\" class=\"dataframe\">\n",
       "  <thead>\n",
       "    <tr style=\"text-align: right;\">\n",
       "      <th></th>\n",
       "      <th>homepage</th>\n",
       "      <th>ip</th>\n",
       "      <th>lat</th>\n",
       "      <th>lon</th>\n",
       "    </tr>\n",
       "  </thead>\n",
       "  <tbody>\n",
       "    <tr>\n",
       "      <th>0</th>\n",
       "      <td>http://2001.ukrcensus.gov.ua</td>\n",
       "      <td>194.44.147.62</td>\n",
       "      <td>50.4500</td>\n",
       "      <td>30.5233</td>\n",
       "    </tr>\n",
       "    <tr>\n",
       "      <th>1</th>\n",
       "      <td>http://academia.gov.ua</td>\n",
       "      <td>176.103.56.62</td>\n",
       "      <td>49.4859</td>\n",
       "      <td>28.3482</td>\n",
       "    </tr>\n",
       "    <tr>\n",
       "      <th>3</th>\n",
       "      <td>http://academy.kvs.gov.ua</td>\n",
       "      <td>193.19.229.52</td>\n",
       "      <td>50.4333</td>\n",
       "      <td>30.5167</td>\n",
       "    </tr>\n",
       "    <tr>\n",
       "      <th>4</th>\n",
       "      <td>http://adm.od.court.gov.ua</td>\n",
       "      <td>212.90.190.139</td>\n",
       "      <td>50.4500</td>\n",
       "      <td>30.5233</td>\n",
       "    </tr>\n",
       "    <tr>\n",
       "      <th>5</th>\n",
       "      <td>http://akim.gov.ua</td>\n",
       "      <td>178.20.153.53</td>\n",
       "      <td>50.4500</td>\n",
       "      <td>30.5233</td>\n",
       "    </tr>\n",
       "    <tr>\n",
       "      <th>...</th>\n",
       "      <td>...</td>\n",
       "      <td>...</td>\n",
       "      <td>...</td>\n",
       "      <td>...</td>\n",
       "    </tr>\n",
       "    <tr>\n",
       "      <th>1179</th>\n",
       "      <td>https://zhovtanetska-gromada.gov.ua</td>\n",
       "      <td>195.248.234.252</td>\n",
       "      <td>49.2328</td>\n",
       "      <td>28.4810</td>\n",
       "    </tr>\n",
       "    <tr>\n",
       "      <th>1180</th>\n",
       "      <td>https://zhuravnenska-gromada.gov.ua</td>\n",
       "      <td>195.248.234.252</td>\n",
       "      <td>49.2328</td>\n",
       "      <td>28.4810</td>\n",
       "    </tr>\n",
       "    <tr>\n",
       "      <th>1181</th>\n",
       "      <td>https://zp.gov.ua</td>\n",
       "      <td>80.254.6.205</td>\n",
       "      <td>50.4500</td>\n",
       "      <td>30.5233</td>\n",
       "    </tr>\n",
       "    <tr>\n",
       "      <th>1182</th>\n",
       "      <td>https://zpa.court.gov.ua</td>\n",
       "      <td>212.90.190.139</td>\n",
       "      <td>50.4500</td>\n",
       "      <td>30.5233</td>\n",
       "    </tr>\n",
       "    <tr>\n",
       "      <th>1183</th>\n",
       "      <td>https://ztjust.gov.ua</td>\n",
       "      <td>77.87.197.41</td>\n",
       "      <td>50.4500</td>\n",
       "      <td>30.5233</td>\n",
       "    </tr>\n",
       "  </tbody>\n",
       "</table>\n",
       "<p>951 rows × 4 columns</p>\n",
       "</div>"
      ],
      "text/plain": [
       "                                 homepage               ip      lat      lon\n",
       "0            http://2001.ukrcensus.gov.ua    194.44.147.62  50.4500  30.5233\n",
       "1                  http://academia.gov.ua    176.103.56.62  49.4859  28.3482\n",
       "3               http://academy.kvs.gov.ua    193.19.229.52  50.4333  30.5167\n",
       "4              http://adm.od.court.gov.ua   212.90.190.139  50.4500  30.5233\n",
       "5                      http://akim.gov.ua    178.20.153.53  50.4500  30.5233\n",
       "...                                   ...              ...      ...      ...\n",
       "1179  https://zhovtanetska-gromada.gov.ua  195.248.234.252  49.2328  28.4810\n",
       "1180  https://zhuravnenska-gromada.gov.ua  195.248.234.252  49.2328  28.4810\n",
       "1181                    https://zp.gov.ua     80.254.6.205  50.4500  30.5233\n",
       "1182             https://zpa.court.gov.ua   212.90.190.139  50.4500  30.5233\n",
       "1183                https://ztjust.gov.ua     77.87.197.41  50.4500  30.5233\n",
       "\n",
       "[951 rows x 4 columns]"
      ]
     },
     "execution_count": 2,
     "metadata": {},
     "output_type": "execute_result"
    }
   ],
   "source": [
    "websites = pandas.read_csv('websites.csv')\n",
    "websites = websites.dropna()\n",
    "websites"
   ]
  },
  {
   "cell_type": "code",
   "execution_count": 3,
   "id": "52e3cbd5-22cf-477e-970f-b88a99ae8e5c",
   "metadata": {},
   "outputs": [
    {
     "data": {
      "application/vnd.jupyter.widget-view+json": {
       "model_id": "2ceb66f75d3d4c2cacc88cac07012c65",
       "version_major": 2,
       "version_minor": 0
      },
      "text/plain": [
       "Map(center=[50.44676, 30.51313], controls=(ZoomControl(options=['position', 'zoom_in_text', 'zoom_in_title', '…"
      ]
     },
     "metadata": {},
     "output_type": "display_data"
    }
   ],
   "source": [
    "from ipywidgets import Layout\n",
    "from ipyleaflet import Map, Marker, MarkerCluster, basemaps\n",
    "\n",
    "center = (50.44676, 30.51313)\n",
    "\n",
    "website_map = Map(center=center, zoom=4, basemap=basemaps.CartoDB.Positron, layout=Layout(height='800px'))\n",
    "\n",
    "markers = []\n",
    "for i, row in websites.iterrows():\n",
    "    markers.append(Marker(location=(row['lat'], row['lon']), draggable=False, title=row['homepage']))\n",
    "\n",
    "marker_cluster = MarkerCluster(markers=markers)\n",
    "website_map.add_layer(marker_cluster)\n",
    "website_map"
   ]
  },
  {
   "cell_type": "code",
   "execution_count": 9,
   "id": "395d5388-ceb7-4c6b-a424-4dac9f64a80a",
   "metadata": {},
   "outputs": [
    {
     "name": "stdout",
     "output_type": "stream",
     "text": [
      "Help on method save in module ipyleaflet.leaflet:\n",
      "\n",
      "save(outfile, **kwargs) method of ipyleaflet.leaflet.Map instance\n",
      "    Save the Map to an .html file.\n",
      "    \n",
      "    Parameters\n",
      "    ----------\n",
      "    outfile: str or file-like object\n",
      "        The file to write the HTML output to.\n",
      "    kwargs: keyword-arguments\n",
      "        Extra parameters to pass to the ipywidgets.embed.embed_minimal_html function.\n",
      "\n"
     ]
    }
   ],
   "source": [
    "#website_map.save('website-map.html', title='Ukrainian Government Website Hosting')\n",
    "help(website_map.save)"
   ]
  },
  {
   "cell_type": "code",
   "execution_count": 7,
   "id": "8ad09b73-992c-4083-b89e-c3df3a60f0db",
   "metadata": {},
   "outputs": [
    {
     "data": {
      "text/plain": [
       "2"
      ]
     },
     "execution_count": 7,
     "metadata": {},
     "output_type": "execute_result"
    }
   ],
   "source": []
  },
  {
   "cell_type": "code",
   "execution_count": null,
   "id": "b80fd473-75df-4efa-90e9-35f0e24e6cd8",
   "metadata": {},
   "outputs": [],
   "source": []
  }
 ],
 "metadata": {
  "kernelspec": {
   "display_name": "Python 3 (ipykernel)",
   "language": "python",
   "name": "python3"
  },
  "language_info": {
   "codemirror_mode": {
    "name": "ipython",
    "version": 3
   },
   "file_extension": ".py",
   "mimetype": "text/x-python",
   "name": "python",
   "nbconvert_exporter": "python",
   "pygments_lexer": "ipython3",
   "version": "3.10.1"
  }
 },
 "nbformat": 4,
 "nbformat_minor": 5
}
